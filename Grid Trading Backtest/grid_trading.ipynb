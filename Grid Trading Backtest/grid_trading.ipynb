{
 "cells": [
  {
   "cell_type": "code",
   "execution_count": 32,
   "metadata": {},
   "outputs": [],
   "source": [
    "import pandas as pd\n",
    "from binance.client import Client \n",
    "client = Client()"
   ]
  },
  {
   "cell_type": "code",
   "execution_count": 33,
   "metadata": {},
   "outputs": [],
   "source": [
    "def getdata(symbol, start):\n",
    "    frame = pd.DataFrame(client.get_historical_klines(symbol,'1m',start))\n",
    "    frame = frame.iloc[:,:6]\n",
    "    frame.columns = ['Time','Open','High','Low','Close','Volume']\n",
    "    frame.set_index('Time', inplace=True)\n",
    "    frame.index = pd.to_datetime(frame.index,unit='ms')\n",
    "    frame = frame.astype(float)\n",
    "    return frame"
   ]
  },
  {
   "cell_type": "code",
   "execution_count": 35,
   "metadata": {},
   "outputs": [],
   "source": [
    "df = getdata('BTCUSDT', '2023-1-1')"
   ]
  },
  {
   "cell_type": "code",
   "execution_count": 36,
   "metadata": {},
   "outputs": [
    {
     "data": {
      "text/html": [
       "<div>\n",
       "<style scoped>\n",
       "    .dataframe tbody tr th:only-of-type {\n",
       "        vertical-align: middle;\n",
       "    }\n",
       "\n",
       "    .dataframe tbody tr th {\n",
       "        vertical-align: top;\n",
       "    }\n",
       "\n",
       "    .dataframe thead th {\n",
       "        text-align: right;\n",
       "    }\n",
       "</style>\n",
       "<table border=\"1\" class=\"dataframe\">\n",
       "  <thead>\n",
       "    <tr style=\"text-align: right;\">\n",
       "      <th></th>\n",
       "      <th>Open</th>\n",
       "      <th>High</th>\n",
       "      <th>Low</th>\n",
       "      <th>Close</th>\n",
       "      <th>Volume</th>\n",
       "    </tr>\n",
       "    <tr>\n",
       "      <th>Time</th>\n",
       "      <th></th>\n",
       "      <th></th>\n",
       "      <th></th>\n",
       "      <th></th>\n",
       "      <th></th>\n",
       "    </tr>\n",
       "  </thead>\n",
       "  <tbody>\n",
       "    <tr>\n",
       "      <th>2023-01-01 00:00:00</th>\n",
       "      <td>16541.77</td>\n",
       "      <td>16544.76</td>\n",
       "      <td>16538.45</td>\n",
       "      <td>16543.67</td>\n",
       "      <td>83.08143</td>\n",
       "    </tr>\n",
       "    <tr>\n",
       "      <th>2023-01-01 00:01:00</th>\n",
       "      <td>16543.04</td>\n",
       "      <td>16544.41</td>\n",
       "      <td>16538.48</td>\n",
       "      <td>16539.31</td>\n",
       "      <td>80.45300</td>\n",
       "    </tr>\n",
       "    <tr>\n",
       "      <th>2023-01-01 00:02:00</th>\n",
       "      <td>16539.31</td>\n",
       "      <td>16541.17</td>\n",
       "      <td>16534.52</td>\n",
       "      <td>16536.43</td>\n",
       "      <td>62.90197</td>\n",
       "    </tr>\n",
       "    <tr>\n",
       "      <th>2023-01-01 00:03:00</th>\n",
       "      <td>16536.43</td>\n",
       "      <td>16537.28</td>\n",
       "      <td>16531.00</td>\n",
       "      <td>16533.65</td>\n",
       "      <td>115.71894</td>\n",
       "    </tr>\n",
       "    <tr>\n",
       "      <th>2023-01-01 00:04:00</th>\n",
       "      <td>16534.12</td>\n",
       "      <td>16536.08</td>\n",
       "      <td>16527.51</td>\n",
       "      <td>16535.38</td>\n",
       "      <td>144.45369</td>\n",
       "    </tr>\n",
       "    <tr>\n",
       "      <th>...</th>\n",
       "      <td>...</td>\n",
       "      <td>...</td>\n",
       "      <td>...</td>\n",
       "      <td>...</td>\n",
       "      <td>...</td>\n",
       "    </tr>\n",
       "    <tr>\n",
       "      <th>2023-06-21 14:58:00</th>\n",
       "      <td>29469.99</td>\n",
       "      <td>29508.66</td>\n",
       "      <td>29468.86</td>\n",
       "      <td>29500.01</td>\n",
       "      <td>88.68509</td>\n",
       "    </tr>\n",
       "    <tr>\n",
       "      <th>2023-06-21 14:59:00</th>\n",
       "      <td>29500.00</td>\n",
       "      <td>29591.99</td>\n",
       "      <td>29496.00</td>\n",
       "      <td>29536.01</td>\n",
       "      <td>295.29346</td>\n",
       "    </tr>\n",
       "    <tr>\n",
       "      <th>2023-06-21 15:00:00</th>\n",
       "      <td>29536.02</td>\n",
       "      <td>29585.45</td>\n",
       "      <td>29532.00</td>\n",
       "      <td>29576.24</td>\n",
       "      <td>144.29076</td>\n",
       "    </tr>\n",
       "    <tr>\n",
       "      <th>2023-06-21 15:01:00</th>\n",
       "      <td>29576.24</td>\n",
       "      <td>29633.51</td>\n",
       "      <td>29573.27</td>\n",
       "      <td>29595.79</td>\n",
       "      <td>278.96936</td>\n",
       "    </tr>\n",
       "    <tr>\n",
       "      <th>2023-06-21 15:02:00</th>\n",
       "      <td>29595.79</td>\n",
       "      <td>29595.79</td>\n",
       "      <td>29550.00</td>\n",
       "      <td>29579.47</td>\n",
       "      <td>124.81733</td>\n",
       "    </tr>\n",
       "  </tbody>\n",
       "</table>\n",
       "<p>247063 rows × 5 columns</p>\n",
       "</div>"
      ],
      "text/plain": [
       "                         Open      High       Low     Close     Volume\n",
       "Time                                                                  \n",
       "2023-01-01 00:00:00  16541.77  16544.76  16538.45  16543.67   83.08143\n",
       "2023-01-01 00:01:00  16543.04  16544.41  16538.48  16539.31   80.45300\n",
       "2023-01-01 00:02:00  16539.31  16541.17  16534.52  16536.43   62.90197\n",
       "2023-01-01 00:03:00  16536.43  16537.28  16531.00  16533.65  115.71894\n",
       "2023-01-01 00:04:00  16534.12  16536.08  16527.51  16535.38  144.45369\n",
       "...                       ...       ...       ...       ...        ...\n",
       "2023-06-21 14:58:00  29469.99  29508.66  29468.86  29500.01   88.68509\n",
       "2023-06-21 14:59:00  29500.00  29591.99  29496.00  29536.01  295.29346\n",
       "2023-06-21 15:00:00  29536.02  29585.45  29532.00  29576.24  144.29076\n",
       "2023-06-21 15:01:00  29576.24  29633.51  29573.27  29595.79  278.96936\n",
       "2023-06-21 15:02:00  29595.79  29595.79  29550.00  29579.47  124.81733\n",
       "\n",
       "[247063 rows x 5 columns]"
      ]
     },
     "execution_count": 36,
     "metadata": {},
     "output_type": "execute_result"
    }
   ],
   "source": [
    "df"
   ]
  },
  {
   "cell_type": "code",
   "execution_count": 37,
   "metadata": {},
   "outputs": [
    {
     "data": {
      "text/plain": [
       "Time\n",
       "2023-01-01    16541.77\n",
       "2023-01-02    16617.17\n",
       "2023-01-03    16672.78\n",
       "2023-01-04    16675.65\n",
       "2023-01-05    16850.36\n",
       "                ...   \n",
       "2023-06-17    26345.01\n",
       "2023-06-18    26516.99\n",
       "2023-06-19    26339.98\n",
       "2023-06-20    26844.35\n",
       "2023-06-21    28308.00\n",
       "Freq: D, Name: Open, Length: 172, dtype: float64"
      ]
     },
     "execution_count": 37,
     "metadata": {},
     "output_type": "execute_result"
    }
   ],
   "source": [
    "df.resample('D').first().Open"
   ]
  },
  {
   "cell_type": "code",
   "execution_count": 38,
   "metadata": {},
   "outputs": [],
   "source": [
    "opens = df.resample('D').first().Open"
   ]
  },
  {
   "cell_type": "code",
   "execution_count": 39,
   "metadata": {},
   "outputs": [],
   "source": [
    "def getlevels(date,first=True):\n",
    "    if first:#if it is the first level return \n",
    "        return opens[date] * 0.998, opens[date] * 1.002\n",
    "    else:\n",
    "        return opens[date] * 0.996, opens[date] * 0.998"
   ]
  },
  {
   "cell_type": "code",
   "execution_count": 40,
   "metadata": {},
   "outputs": [
    {
     "data": {
      "text/plain": [
       "(16508.68646, 16574.85354)"
      ]
     },
     "execution_count": 40,
     "metadata": {},
     "output_type": "execute_result"
    }
   ],
   "source": [
    "getlevels('2023-1-1')#buying and selling for first level"
   ]
  },
  {
   "cell_type": "code",
   "execution_count": 41,
   "metadata": {},
   "outputs": [
    {
     "data": {
      "text/plain": [
       "(16475.60292, 16508.68646)"
      ]
     },
     "execution_count": 41,
     "metadata": {},
     "output_type": "execute_result"
    }
   ],
   "source": [
    "# buying and selling for second level\n",
    "getlevels('02023-1-1',first=False)"
   ]
  },
  {
   "cell_type": "code",
   "execution_count": 42,
   "metadata": {},
   "outputs": [],
   "source": [
    "def sliceDf(date):\n",
    "    return df[df.index.date == pd.to_datetime(date)]"
   ]
  },
  {
   "cell_type": "code",
   "execution_count": 43,
   "metadata": {},
   "outputs": [],
   "source": [
    "testDF = sliceDf(2023-1-1)"
   ]
  },
  {
   "cell_type": "code",
   "execution_count": 44,
   "metadata": {},
   "outputs": [],
   "source": [
    "in_position = False\n",
    "for index,row in testDF.iterrows():\n",
    "    if not in_position:\n",
    "        levels = getlevels('2023-1-1')\n",
    "        if row.Low <= levels[0]:\n",
    "            print(index)\n",
    "            print('buy')\n",
    "            in_position = True\n",
    "    if in_position:\n",
    "        if row.High >= levels[1]:\n",
    "            print(index)\n",
    "            print('sold')\n",
    "            in_position = False"
   ]
  },
  {
   "cell_type": "code",
   "execution_count": 45,
   "metadata": {},
   "outputs": [
    {
     "data": {
      "text/html": [
       "<div>\n",
       "<style scoped>\n",
       "    .dataframe tbody tr th:only-of-type {\n",
       "        vertical-align: middle;\n",
       "    }\n",
       "\n",
       "    .dataframe tbody tr th {\n",
       "        vertical-align: top;\n",
       "    }\n",
       "\n",
       "    .dataframe thead th {\n",
       "        text-align: right;\n",
       "    }\n",
       "</style>\n",
       "<table border=\"1\" class=\"dataframe\">\n",
       "  <thead>\n",
       "    <tr style=\"text-align: right;\">\n",
       "      <th></th>\n",
       "      <th>Open</th>\n",
       "      <th>High</th>\n",
       "      <th>Low</th>\n",
       "      <th>Close</th>\n",
       "      <th>Volume</th>\n",
       "    </tr>\n",
       "    <tr>\n",
       "      <th>Time</th>\n",
       "      <th></th>\n",
       "      <th></th>\n",
       "      <th></th>\n",
       "      <th></th>\n",
       "      <th></th>\n",
       "    </tr>\n",
       "  </thead>\n",
       "  <tbody>\n",
       "  </tbody>\n",
       "</table>\n",
       "</div>"
      ],
      "text/plain": [
       "Empty DataFrame\n",
       "Columns: [Open, High, Low, Close, Volume]\n",
       "Index: []"
      ]
     },
     "execution_count": 45,
     "metadata": {},
     "output_type": "execute_result"
    }
   ],
   "source": [
    "testDF['2023-1-1 00:35:00':]"
   ]
  },
  {
   "cell_type": "code",
   "execution_count": 46,
   "metadata": {},
   "outputs": [
    {
     "data": {
      "text/html": [
       "<div>\n",
       "<style scoped>\n",
       "    .dataframe tbody tr th:only-of-type {\n",
       "        vertical-align: middle;\n",
       "    }\n",
       "\n",
       "    .dataframe tbody tr th {\n",
       "        vertical-align: top;\n",
       "    }\n",
       "\n",
       "    .dataframe thead th {\n",
       "        text-align: right;\n",
       "    }\n",
       "</style>\n",
       "<table border=\"1\" class=\"dataframe\">\n",
       "  <thead>\n",
       "    <tr style=\"text-align: right;\">\n",
       "      <th></th>\n",
       "      <th>Open</th>\n",
       "      <th>High</th>\n",
       "      <th>Low</th>\n",
       "      <th>Close</th>\n",
       "      <th>Volume</th>\n",
       "    </tr>\n",
       "    <tr>\n",
       "      <th>Time</th>\n",
       "      <th></th>\n",
       "      <th></th>\n",
       "      <th></th>\n",
       "      <th></th>\n",
       "      <th></th>\n",
       "    </tr>\n",
       "  </thead>\n",
       "  <tbody>\n",
       "  </tbody>\n",
       "</table>\n",
       "</div>"
      ],
      "text/plain": [
       "Empty DataFrame\n",
       "Columns: [Open, High, Low, Close, Volume]\n",
       "Index: []"
      ]
     },
     "execution_count": 46,
     "metadata": {},
     "output_type": "execute_result"
    }
   ],
   "source": [
    "testDF['2023-1-1 16:00:00':]#for selling"
   ]
  },
  {
   "cell_type": "code",
   "execution_count": 59,
   "metadata": {},
   "outputs": [],
   "source": [
    "position_Arr = [False, False]\n",
    "secondLevels = []\n",
    "firstLevels = []\n",
    "date = '2023-1-1'\n",
    "testDF = sliceDf(date)\n",
    "\n",
    "for index,row in testDF.iterrows():\n",
    "    if not position_Arr[0]:\n",
    "        firstLevels = getlevels(date)\n",
    "        secondLevels = getlevels(date, first=False)\n",
    "        if row.Low <= firstLevels[0]:\n",
    "            print('buy')\n",
    "            position_Arr[0] = True\n",
    "    if position_Arr[0] and not position_Arr[1]:\n",
    "        if row.Low <= secondLevels[0]:\n",
    "            print('buy second')\n",
    "            position_Arr[1] = True\n",
    "        if row.High >= firstLevels[1]:\n",
    "            print('sell')\n",
    "            position_Arr[0] = False\n",
    "    if position_Arr[1]:\n",
    "        if row.High >= secondLevels[1]:\n",
    "            print('sell second')\n",
    "            position_Arr[1] = False\n",
    "        "
   ]
  },
  {
   "cell_type": "code",
   "execution_count": 61,
   "metadata": {},
   "outputs": [
    {
     "data": {
      "text/plain": [
       "nan"
      ]
     },
     "execution_count": 61,
     "metadata": {},
     "output_type": "execute_result"
    }
   ],
   "source": [
    "testDF.Low.min()"
   ]
  },
  {
   "cell_type": "code",
   "execution_count": 62,
   "metadata": {},
   "outputs": [
    {
     "data": {
      "text/html": [
       "<div>\n",
       "<style scoped>\n",
       "    .dataframe tbody tr th:only-of-type {\n",
       "        vertical-align: middle;\n",
       "    }\n",
       "\n",
       "    .dataframe tbody tr th {\n",
       "        vertical-align: top;\n",
       "    }\n",
       "\n",
       "    .dataframe thead th {\n",
       "        text-align: right;\n",
       "    }\n",
       "</style>\n",
       "<table border=\"1\" class=\"dataframe\">\n",
       "  <thead>\n",
       "    <tr style=\"text-align: right;\">\n",
       "      <th></th>\n",
       "      <th>Open</th>\n",
       "      <th>High</th>\n",
       "      <th>Low</th>\n",
       "      <th>Close</th>\n",
       "      <th>Volume</th>\n",
       "    </tr>\n",
       "    <tr>\n",
       "      <th>Time</th>\n",
       "      <th></th>\n",
       "      <th></th>\n",
       "      <th></th>\n",
       "      <th></th>\n",
       "      <th></th>\n",
       "    </tr>\n",
       "  </thead>\n",
       "  <tbody>\n",
       "  </tbody>\n",
       "</table>\n",
       "</div>"
      ],
      "text/plain": [
       "Empty DataFrame\n",
       "Columns: [Open, High, Low, Close, Volume]\n",
       "Index: []"
      ]
     },
     "execution_count": 62,
     "metadata": {},
     "output_type": "execute_result"
    }
   ],
   "source": [
    "testDF.dropna()"
   ]
  },
  {
   "cell_type": "code",
   "execution_count": 63,
   "metadata": {},
   "outputs": [
    {
     "data": {
      "text/plain": [
       "nan"
      ]
     },
     "execution_count": 63,
     "metadata": {},
     "output_type": "execute_result"
    }
   ],
   "source": [
    "testDF.Low.min()"
   ]
  }
 ],
 "metadata": {
  "kernelspec": {
   "display_name": "Python 3",
   "language": "python",
   "name": "python3"
  },
  "language_info": {
   "codemirror_mode": {
    "name": "ipython",
    "version": 3
   },
   "file_extension": ".py",
   "mimetype": "text/x-python",
   "name": "python",
   "nbconvert_exporter": "python",
   "pygments_lexer": "ipython3",
   "version": "3.11.3"
  },
  "orig_nbformat": 4
 },
 "nbformat": 4,
 "nbformat_minor": 2
}
